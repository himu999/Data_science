{
 "cells": [
  {
   "cell_type": "markdown",
   "metadata": {},
   "source": [
    "# NumPy"
   ]
  },
  {
   "cell_type": "code",
   "execution_count": 2,
   "metadata": {},
   "outputs": [],
   "source": [
    "import numpy as np\n",
    "a = np.arange(100)"
   ]
  },
  {
   "cell_type": "code",
   "execution_count": 3,
   "metadata": {},
   "outputs": [
    {
     "name": "stdout",
     "output_type": "stream",
     "text": [
      "[ 0  1  2  3  4  5  6  7  8  9 10 11 12 13 14 15 16 17 18 19 20 21 22 23\n",
      " 24 25 26 27 28 29 30 31 32 33 34 35 36 37 38 39 40 41 42 43 44 45 46 47\n",
      " 48 49 50 51 52 53 54 55 56 57 58 59 60 61 62 63 64 65 66 67 68 69 70 71\n",
      " 72 73 74 75 76 77 78 79 80 81 82 83 84 85 86 87 88 89 90 91 92 93 94 95\n",
      " 96 97 98 99]\n"
     ]
    }
   ],
   "source": [
    "print(a)"
   ]
  },
  {
   "cell_type": "code",
   "execution_count": 5,
   "metadata": {},
   "outputs": [],
   "source": [
    "b = []\n",
    "for  i in range(100):\n",
    "    if a[i]%2 == 0:\n",
    "        b.append(a[i])"
   ]
  },
  {
   "cell_type": "code",
   "execution_count": 6,
   "metadata": {},
   "outputs": [
    {
     "name": "stdout",
     "output_type": "stream",
     "text": [
      "[0, 2, 4, 6, 8, 10, 12, 14, 16, 18, 20, 22, 24, 26, 28, 30, 32, 34, 36, 38, 40, 42, 44, 46, 48, 50, 52, 54, 56, 58, 60, 62, 64, 66, 68, 70, 72, 74, 76, 78, 80, 82, 84, 86, 88, 90, 92, 94, 96, 98]\n"
     ]
    }
   ],
   "source": [
    "print(b)"
   ]
  },
  {
   "cell_type": "code",
   "execution_count": 8,
   "metadata": {},
   "outputs": [],
   "source": [
    "b = np.arange(10, 51)"
   ]
  },
  {
   "cell_type": "code",
   "execution_count": 33,
   "metadata": {},
   "outputs": [
    {
     "name": "stdout",
     "output_type": "stream",
     "text": [
      "[0, 1, 2, 3, 4, 5, 6, 7, 8, 9, 10]\n",
      "<class 'list'>\n"
     ]
    }
   ],
   "source": [
    "print(b)\n",
    "print(type(b))"
   ]
  },
  {
   "cell_type": "code",
   "execution_count": 10,
   "metadata": {},
   "outputs": [],
   "source": [
    "c = np.arange(0, 101, 2)"
   ]
  },
  {
   "cell_type": "code",
   "execution_count": 34,
   "metadata": {},
   "outputs": [
    {
     "name": "stdout",
     "output_type": "stream",
     "text": [
      "[  0   2   4   6   8  10  12  14  16  18  20  22  24  26  28  30  32  34\n",
      "  36  38  40  42  44  46  48  50  52  54  56  58  60  62  64  66  68  70\n",
      "  72  74  76  78  80  82  84  86  88  90  92  94  96  98 100]\n",
      "<class 'numpy.ndarray'>\n"
     ]
    }
   ],
   "source": [
    "print(c)\n",
    "print(type(c))"
   ]
  },
  {
   "cell_type": "code",
   "execution_count": 12,
   "metadata": {},
   "outputs": [
    {
     "name": "stdout",
     "output_type": "stream",
     "text": [
      "[0, 1, 2, 3, 4, 5, 6, 7, 8, 9]\n"
     ]
    }
   ],
   "source": [
    "print(list(range(10)))"
   ]
  },
  {
   "cell_type": "code",
   "execution_count": 15,
   "metadata": {},
   "outputs": [
    {
     "name": "stdout",
     "output_type": "stream",
     "text": [
      "[0, 1, 2, 3, 4, 5, 6, 7, 8, 9, 10]\n"
     ]
    }
   ],
   "source": [
    "d = list(range(11))\n",
    "print(d)"
   ]
  },
  {
   "cell_type": "code",
   "execution_count": 19,
   "metadata": {},
   "outputs": [],
   "source": [
    "e = np.random.permutation(np.arange(10))"
   ]
  },
  {
   "cell_type": "code",
   "execution_count": 20,
   "metadata": {},
   "outputs": [
    {
     "name": "stdout",
     "output_type": "stream",
     "text": [
      "[8 2 3 9 7 6 5 1 4 0]\n"
     ]
    }
   ],
   "source": [
    "print(e)"
   ]
  },
  {
   "cell_type": "code",
   "execution_count": 23,
   "metadata": {},
   "outputs": [],
   "source": [
    " v = np.random.randint(10, 20 ,5)"
   ]
  },
  {
   "cell_type": "code",
   "execution_count": 36,
   "metadata": {},
   "outputs": [
    {
     "name": "stdout",
     "output_type": "stream",
     "text": [
      "<class 'numpy.ndarray'>\n",
      "[14 15 16 12 19]\n"
     ]
    }
   ],
   "source": [
    "print(type(v))\n",
    "print(v)"
   ]
  },
  {
   "cell_type": "code",
   "execution_count": 27,
   "metadata": {},
   "outputs": [
    {
     "name": "stdout",
     "output_type": "stream",
     "text": [
      "10\n"
     ]
    }
   ],
   "source": [
    "v1 = np.random.randint(10, 15)\n",
    "print(v1)"
   ]
  },
  {
   "cell_type": "code",
   "execution_count": 54,
   "metadata": {},
   "outputs": [],
   "source": [
    "v2 = np.random.rand(1000)"
   ]
  },
  {
   "cell_type": "code",
   "execution_count": 55,
   "metadata": {},
   "outputs": [
    {
     "data": {
      "text/plain": [
       "array([0.59303978, 0.987426  , 0.4700261 , 0.27459329, 0.68919717,\n",
       "       0.69477931, 0.15761744, 0.25965746, 0.41625944, 0.60024802,\n",
       "       0.23692024, 0.50751387, 0.8256271 , 0.21044021, 0.93742979,\n",
       "       0.34122062, 0.9383806 , 0.565179  , 0.1339519 , 0.3759606 ,\n",
       "       0.04720442, 0.5984643 , 0.41575228, 0.81535701, 0.41543121,\n",
       "       0.07882448, 0.93475942, 0.27740686, 0.3869586 , 0.46012638,\n",
       "       0.24708448, 0.61644861, 0.3338297 , 0.92997108, 0.2301189 ,\n",
       "       0.30273051, 0.40440884, 0.43786537, 0.28136662, 0.73142926,\n",
       "       0.30459475, 0.92515113, 0.74223975, 0.73929268, 0.9900026 ,\n",
       "       0.53011805, 0.65977527, 0.61067499, 0.06826304, 0.77535571,\n",
       "       0.75908517, 0.41525061, 0.33259201, 0.81445181, 0.02522002,\n",
       "       0.69098309, 0.16595876, 0.85785727, 0.1939708 , 0.05596517,\n",
       "       0.39219948, 0.99412619, 0.9552178 , 0.648346  , 0.9872319 ,\n",
       "       0.12989471, 0.73585015, 0.28513928, 0.30693376, 0.71000682,\n",
       "       0.56108931, 0.81540118, 0.31720339, 0.97352714, 0.98776282,\n",
       "       0.33124052, 0.43716397, 0.92814589, 0.28643525, 0.45457429,\n",
       "       0.60295347, 0.02434218, 0.44396349, 0.70451235, 0.63221857,\n",
       "       0.8393167 , 0.72001741, 0.08482465, 0.35109761, 0.27038391,\n",
       "       0.30876188, 0.39677862, 0.23763884, 0.56793496, 0.78909565,\n",
       "       0.42553846, 0.09476687, 0.06365768, 0.63366199, 0.20923834,\n",
       "       0.47695634, 0.36191643, 0.34146326, 0.68156489, 0.71419033,\n",
       "       0.96613635, 0.5791017 , 0.78593433, 0.30597866, 0.17622086,\n",
       "       0.58405001, 0.2738729 , 0.80084914, 0.70503731, 0.99528244,\n",
       "       0.49822231, 0.95738997, 0.52605812, 0.94248575, 0.91191065,\n",
       "       0.64172446, 0.31048848, 0.91167719, 0.57698058, 0.10129712,\n",
       "       0.82594015, 0.59148384, 0.21906394, 0.1932062 , 0.57760632,\n",
       "       0.9471364 , 0.2130037 , 0.72742657, 0.62723396, 0.97261319,\n",
       "       0.58329224, 0.0142127 , 0.02554409, 0.30385769, 0.47259211,\n",
       "       0.94654127, 0.75924855, 0.23558818, 0.81752202, 0.47936171,\n",
       "       0.96988182, 0.1098825 , 0.63034837, 0.5595754 , 0.95726356,\n",
       "       0.27067534, 0.97956307, 0.48755691, 0.09715578, 0.81814116,\n",
       "       0.63589435, 0.31830175, 0.75620572, 0.67180412, 0.73346405,\n",
       "       0.38861327, 0.08766369, 0.02144346, 0.94103637, 0.038074  ,\n",
       "       0.08951871, 0.89741127, 0.22770911, 0.31647072, 0.0298638 ,\n",
       "       0.31034969, 0.34074462, 0.46652615, 0.00525867, 0.20144455,\n",
       "       0.0358123 , 0.82497344, 0.12558332, 0.59925195, 0.59880628,\n",
       "       0.25604888, 0.53728783, 0.97516686, 0.06066514, 0.93911528,\n",
       "       0.78086844, 0.25670301, 0.4012573 , 0.54540642, 0.73623084,\n",
       "       0.74675882, 0.27713382, 0.8309581 , 0.80884343, 0.67673774,\n",
       "       0.3804903 , 0.93980648, 0.70637715, 0.73276966, 0.16892373,\n",
       "       0.16833194, 0.84964129, 0.00195714, 0.70759327, 0.20600676,\n",
       "       0.64657837, 0.84879948, 0.87284801, 0.42029419, 0.08314044,\n",
       "       0.67082428, 0.19087547, 0.31421079, 0.26380221, 0.9525547 ,\n",
       "       0.11120824, 0.73262622, 0.99086153, 0.15202789, 0.94690146,\n",
       "       0.83813979, 0.32926552, 0.72029033, 0.45368337, 0.05521598,\n",
       "       0.37768538, 0.24398755, 0.96973601, 0.25318638, 0.30993853,\n",
       "       0.95990178, 0.0581979 , 0.48078366, 0.88930374, 0.21077321,\n",
       "       0.08469802, 0.5625262 , 0.69312258, 0.76038277, 0.75441756,\n",
       "       0.57604475, 0.86057382, 0.33266939, 0.15813526, 0.79082   ,\n",
       "       0.31526741, 0.77369693, 0.16717938, 0.93912882, 0.98424697,\n",
       "       0.25254621, 0.28152994, 0.76800126, 0.36523806, 0.47965344,\n",
       "       0.1241192 , 0.09870305, 0.47023626, 0.28127153, 0.96410565,\n",
       "       0.3527093 , 0.54990501, 0.86652289, 0.82010617, 0.54953786,\n",
       "       0.76711325, 0.57368766, 0.63024945, 0.09024816, 0.03711279,\n",
       "       0.32395055, 0.42990593, 0.8600053 , 0.53591806, 0.9956423 ,\n",
       "       0.65725234, 0.92255086, 0.22627529, 0.18804266, 0.71978409,\n",
       "       0.51404784, 0.95406245, 0.16562795, 0.94706999, 0.7782339 ,\n",
       "       0.7051676 , 0.96227156, 0.20987373, 0.12139882, 0.92944048,\n",
       "       0.41658907, 0.63157549, 0.16109049, 0.65231533, 0.62019266,\n",
       "       0.80918828, 0.0847847 , 0.95414096, 0.362396  , 0.59304639,\n",
       "       0.93446508, 0.127009  , 0.5622213 , 0.74344167, 0.80382834,\n",
       "       0.64984545, 0.14905239, 0.32611122, 0.57498279, 0.83962099,\n",
       "       0.06722297, 0.44869306, 0.03075807, 0.58019962, 0.47939934,\n",
       "       0.2336606 , 0.67291265, 0.5239715 , 0.46879444, 0.92154923,\n",
       "       0.6579773 , 0.55558617, 0.21972728, 0.63309756, 0.76578641,\n",
       "       0.6226031 , 0.39697196, 0.84747953, 0.62880507, 0.00821815,\n",
       "       0.75030977, 0.13390475, 0.17241396, 0.00756658, 0.95105008,\n",
       "       0.78092609, 0.34019395, 0.11660172, 0.22116173, 0.74686054,\n",
       "       0.29745203, 0.37444525, 0.39517234, 0.4597327 , 0.25035816,\n",
       "       0.21553129, 0.31581137, 0.841567  , 0.28604144, 0.36031027,\n",
       "       0.91019199, 0.9280993 , 0.93485157, 0.10799119, 0.77375443,\n",
       "       0.5109962 , 0.97175482, 0.26726005, 0.78320761, 0.6178256 ,\n",
       "       0.94799895, 0.56119594, 0.41712295, 0.68876841, 0.16848769,\n",
       "       0.91851302, 0.82389388, 0.57286461, 0.68407837, 0.09954538,\n",
       "       0.40278555, 0.3696018 , 0.99277683, 0.8396239 , 0.64141675,\n",
       "       0.34315392, 0.50418694, 0.50632166, 0.20727083, 0.45467207,\n",
       "       0.71882104, 0.51427495, 0.025478  , 0.23396072, 0.96937917,\n",
       "       0.7614364 , 0.53312241, 0.55252526, 0.88372761, 0.22198017,\n",
       "       0.81233744, 0.27111986, 0.75992959, 0.99520766, 0.41092666,\n",
       "       0.16270132, 0.04173935, 0.98075807, 0.45661023, 0.02648111,\n",
       "       0.72088401, 0.25534279, 0.83272541, 0.5991141 , 0.16529199,\n",
       "       0.23867601, 0.9995436 , 0.91596606, 0.10734587, 0.20445424,\n",
       "       0.30903306, 0.38752628, 0.75082778, 0.90350813, 0.72076309,\n",
       "       0.95115112, 0.21916499, 0.37380971, 0.17302196, 0.46137084,\n",
       "       0.92511432, 0.20894737, 0.15903038, 0.3806849 , 0.69704354,\n",
       "       0.10528481, 0.57847637, 0.82890234, 0.85404853, 0.03588706,\n",
       "       0.6690538 , 0.92615629, 0.15943804, 0.65463601, 0.16758143,\n",
       "       0.47640543, 0.31954908, 0.81965679, 0.7272034 , 0.46238834,\n",
       "       0.73156486, 0.56431605, 0.94786762, 0.57007815, 0.93712059,\n",
       "       0.51729208, 0.49962741, 0.89384293, 0.43501222, 0.79672142,\n",
       "       0.17028156, 0.02920558, 0.56943524, 0.90388706, 0.46980119,\n",
       "       0.03938255, 0.09452392, 0.57970775, 0.40435351, 0.08476722,\n",
       "       0.28142243, 0.39683202, 0.20912606, 0.82061542, 0.00215951,\n",
       "       0.66322146, 0.78103329, 0.59230256, 0.53202393, 0.85996793,\n",
       "       0.12056321, 0.05637514, 0.22292971, 0.12685655, 0.27789959,\n",
       "       0.01751295, 0.95191671, 0.4009924 , 0.74104132, 0.99117206,\n",
       "       0.97004425, 0.93825736, 0.11239418, 0.33432996, 0.76407169,\n",
       "       0.81858296, 0.74413468, 0.37117824, 0.60856631, 0.60214471,\n",
       "       0.15417242, 0.9496089 , 0.94419024, 0.37042134, 0.68938071,\n",
       "       0.30448946, 0.33151158, 0.42820117, 0.9417075 , 0.91136886,\n",
       "       0.53022304, 0.86660012, 0.93364984, 0.7135748 , 0.56529585,\n",
       "       0.87005258, 0.87496725, 0.7088059 , 0.28118559, 0.37669686,\n",
       "       0.39413617, 0.20036035, 0.7850268 , 0.06082166, 0.65160665,\n",
       "       0.78577497, 0.04316309, 0.27131381, 0.38581762, 0.66615559,\n",
       "       0.43722357, 0.22249298, 0.13776934, 0.08963849, 0.25078329,\n",
       "       0.72666883, 0.37617722, 0.75166202, 0.54021156, 0.1791981 ,\n",
       "       0.02932019, 0.70813124, 0.79736161, 0.85828982, 0.6967647 ,\n",
       "       0.04062711, 0.35334465, 0.26751865, 0.2040057 , 0.46383269,\n",
       "       0.99725122, 0.14909975, 0.73112668, 0.44031469, 0.9347051 ,\n",
       "       0.75900056, 0.18550907, 0.82189467, 0.00648554, 0.21845964,\n",
       "       0.26588537, 0.16780424, 0.99734639, 0.77652   , 0.55241674,\n",
       "       0.457456  , 0.84226274, 0.11116429, 0.83352739, 0.31064501,\n",
       "       0.20756942, 0.15456158, 0.23693158, 0.26372601, 0.15391184,\n",
       "       0.12757783, 0.0692759 , 0.32604183, 0.29560204, 0.64161235,\n",
       "       0.97088803, 0.06925817, 0.40823149, 0.62240179, 0.99027619,\n",
       "       0.3216598 , 0.1815451 , 0.46204486, 0.59114035, 0.00690999,\n",
       "       0.71637168, 0.911408  , 0.73235878, 0.09454429, 0.94165307,\n",
       "       0.29532754, 0.3407235 , 0.42707281, 0.92158034, 0.19394521,\n",
       "       0.86014433, 0.3088276 , 0.61613245, 0.06410046, 0.67940654,\n",
       "       0.7197681 , 0.90247324, 0.30926564, 0.92231267, 0.0762092 ,\n",
       "       0.09994835, 0.49147156, 0.0776107 , 0.22594556, 0.24413351,\n",
       "       0.19553266, 0.74563213, 0.23808807, 0.99974353, 0.87338009,\n",
       "       0.50625449, 0.70175903, 0.40876233, 0.83158772, 0.84071418,\n",
       "       0.88709058, 0.9560498 , 0.62639552, 0.52349784, 0.52834185,\n",
       "       0.63638315, 0.40013171, 0.41686017, 0.62920861, 0.33633769,\n",
       "       0.23009876, 0.99553117, 0.74699883, 0.76677099, 0.34720967,\n",
       "       0.5831792 , 0.66613192, 0.08744723, 0.2400558 , 0.16971024,\n",
       "       0.17897883, 0.7343125 , 0.9102589 , 0.52137406, 0.69397829,\n",
       "       0.5094204 , 0.1397504 , 0.01270158, 0.4391002 , 0.15137955,\n",
       "       0.14512767, 0.65122776, 0.30470445, 0.7542167 , 0.17140536,\n",
       "       0.62420594, 0.28545668, 0.02955293, 0.38636924, 0.23411407,\n",
       "       0.70993213, 0.89622827, 0.45727049, 0.64573615, 0.4845421 ,\n",
       "       0.92075517, 0.49438387, 0.62021951, 0.49844862, 0.70474848,\n",
       "       0.77074955, 0.28307728, 0.41340318, 0.00526527, 0.49667068,\n",
       "       0.65834753, 0.19579609, 0.05075964, 0.55932483, 0.10732593,\n",
       "       0.7594937 , 0.11422996, 0.83013299, 0.47793598, 0.24284246,\n",
       "       0.96339538, 0.89026719, 0.54927786, 0.32515589, 0.14641583,\n",
       "       0.58235713, 0.99982052, 0.84954321, 0.21355779, 0.00428261,\n",
       "       0.60157325, 0.25587262, 0.56512053, 0.56830082, 0.83615067,\n",
       "       0.77648358, 0.18589608, 0.06221252, 0.06933382, 0.7974355 ,\n",
       "       0.07275775, 0.54241069, 0.59467616, 0.50610888, 0.39714397,\n",
       "       0.66512025, 0.75817998, 0.32564438, 0.03378451, 0.86765963,\n",
       "       0.61683837, 0.13995314, 0.1638405 , 0.34409683, 0.30405828,\n",
       "       0.58415545, 0.39048777, 0.53067744, 0.28931788, 0.6932887 ,\n",
       "       0.80750253, 0.35632087, 0.76850659, 0.57618163, 0.29381767,\n",
       "       0.02674888, 0.7489807 , 0.11261441, 0.90170989, 0.79901704,\n",
       "       0.06454231, 0.10416733, 0.84980352, 0.53989489, 0.02473867,\n",
       "       0.46122826, 0.61240789, 0.31331217, 0.06165801, 0.67194345,\n",
       "       0.85234551, 0.41313059, 0.33791477, 0.98618728, 0.12884695,\n",
       "       0.31685803, 0.02926625, 0.46885456, 0.49693907, 0.04721181,\n",
       "       0.62205622, 0.07242956, 0.82068878, 0.55429055, 0.44275675,\n",
       "       0.80368711, 0.0563305 , 0.62916797, 0.73821222, 0.33994389,\n",
       "       0.97747673, 0.09781239, 0.09468017, 0.99610301, 0.75321946,\n",
       "       0.29100516, 0.67384034, 0.90708228, 0.35997754, 0.00582335,\n",
       "       0.20754016, 0.94757628, 0.99622415, 0.85684586, 0.86675783,\n",
       "       0.52377102, 0.66108124, 0.88475183, 0.80780232, 0.20423445,\n",
       "       0.50794595, 0.71957759, 0.26422519, 0.23282847, 0.84713295,\n",
       "       0.65670121, 0.12714937, 0.4915063 , 0.87279993, 0.62708315,\n",
       "       0.61973803, 0.06748716, 0.22352977, 0.90826319, 0.84721179,\n",
       "       0.39942264, 0.50788575, 0.40861678, 0.66624721, 0.20582295,\n",
       "       0.20112271, 0.66326954, 0.97531866, 0.99294803, 0.827786  ,\n",
       "       0.97535466, 0.89697676, 0.4553436 , 0.80445349, 0.62094951,\n",
       "       0.01901913, 0.57554246, 0.55282999, 0.21302446, 0.49449801,\n",
       "       0.94035822, 0.82131257, 0.2480544 , 0.18238414, 0.69574827,\n",
       "       0.45392889, 0.38146237, 0.03990786, 0.25861733, 0.70798866,\n",
       "       0.67377424, 0.29166815, 0.62883714, 0.11280568, 0.09482932,\n",
       "       0.30602885, 0.24563684, 0.16543988, 0.82425906, 0.11496775,\n",
       "       0.12778511, 0.81251506, 0.99895271, 0.2253818 , 0.01782041,\n",
       "       0.78486577, 0.05270971, 0.62090477, 0.69237426, 0.66711152,\n",
       "       0.56344028, 0.76023648, 0.58704678, 0.83036855, 0.60707871,\n",
       "       0.02458306, 0.87110755, 0.27858034, 0.2590795 , 0.04029001,\n",
       "       0.55773037, 0.92703251, 0.19312003, 0.69035338, 0.76718457,\n",
       "       0.19363115, 0.35635258, 0.41346996, 0.38335255, 0.27084299,\n",
       "       0.07947215, 0.32903791, 0.59005173, 0.18532053, 0.85287132,\n",
       "       0.35955161, 0.2852742 , 0.35108004, 0.6744137 , 0.84015147,\n",
       "       0.54397125, 0.97964969, 0.83117342, 0.24119107, 0.23897497,\n",
       "       0.35317403, 0.98698494, 0.70420811, 0.66352461, 0.62850771,\n",
       "       0.99257255, 0.42829822, 0.30322074, 0.96070767, 0.31863932,\n",
       "       0.28680535, 0.79736027, 0.90341674, 0.53604436, 0.25953403,\n",
       "       0.81021349, 0.24234719, 0.90900787, 0.38055808, 0.55681489,\n",
       "       0.91012017, 0.0271881 , 0.02319944, 0.43017259, 0.52958309,\n",
       "       0.76560381, 0.90097108, 0.59414411, 0.20692548, 0.9942195 ,\n",
       "       0.16930642, 0.71762553, 0.55893915, 0.76751826, 0.43513444,\n",
       "       0.01106078, 0.85870395, 0.66328894, 0.65849076, 0.86510464,\n",
       "       0.30609095, 0.23622478, 0.97743331, 0.17153843, 0.80222926,\n",
       "       0.48930682, 0.85199303, 0.00740272, 0.03524153, 0.19960574,\n",
       "       0.95097898, 0.58465761, 0.03971062, 0.44422687, 0.17469109,\n",
       "       0.33927145, 0.44342251, 0.42656897, 0.01911875, 0.15874412,\n",
       "       0.8686025 , 0.12672726, 0.56720378, 0.65851179, 0.00418832,\n",
       "       0.53777445, 0.04089845, 0.73035549, 0.70578059, 0.05645049,\n",
       "       0.91436253, 0.7207771 , 0.751821  , 0.27414873, 0.53144596,\n",
       "       0.96955863, 0.48167249, 0.34433805, 0.84725135, 0.82173933,\n",
       "       0.91148992, 0.60533334, 0.95615738, 0.6537626 , 0.84521759,\n",
       "       0.35836183, 0.74444436, 0.246067  , 0.68949667, 0.89766168,\n",
       "       0.51627319, 0.01948224, 0.8768788 , 0.645604  , 0.29284987,\n",
       "       0.22818726, 0.72248422, 0.30753796, 0.20119096, 0.0521765 ,\n",
       "       0.63794595, 0.51490225, 0.21789075, 0.2741532 , 0.38653926,\n",
       "       0.62936901, 0.31480075, 0.63765964, 0.20314049, 0.05703914,\n",
       "       0.90742166, 0.41405424, 0.9522943 , 0.14309328, 0.8559471 ,\n",
       "       0.72737398, 0.4790548 , 0.91855269, 0.24367906, 0.33719631])"
      ]
     },
     "execution_count": 55,
     "metadata": {},
     "output_type": "execute_result"
    }
   ],
   "source": [
    "v2"
   ]
  },
  {
   "cell_type": "code",
   "execution_count": 56,
   "metadata": {},
   "outputs": [
    {
     "name": "stdout",
     "output_type": "stream",
     "text": [
      "<class 'numpy.ndarray'>\n"
     ]
    }
   ],
   "source": [
    "print(type(v2))"
   ]
  },
  {
   "cell_type": "code",
   "execution_count": 57,
   "metadata": {},
   "outputs": [],
   "source": [
    "import matplotlib.pyplot as plt"
   ]
  },
  {
   "cell_type": "code",
   "execution_count": 58,
   "metadata": {},
   "outputs": [
    {
     "data": {
      "text/plain": [
       "(array([13.,  8., 16., 13.,  4., 12., 10.,  6., 10., 11.,  8.,  8., 10.,\n",
       "         5.,  6., 10., 17.,  7.,  6., 12., 16., 10., 11., 14., 11., 10.,\n",
       "        11., 10., 12.,  6., 20., 11.,  9., 14.,  7.,  9.,  5., 10.,  9.,\n",
       "        10.,  8., 12.,  7.,  7.,  5., 10., 11.,  9.,  4.,  9.,  8.,  6.,\n",
       "        10.,  9.,  6., 10., 14., 12.,  8., 12.,  6.,  9., 17.,  8.,  8.,\n",
       "        12., 11.,  9.,  7.,  9., 14., 10.,  9., 12., 11., 14., 11.,  7.,\n",
       "         9.,  6., 10., 10., 13., 12., 12., 11.,  9.,  6.,  4.,  6., 10.,\n",
       "        12., 12., 13., 14., 14.,  9., 12.,  7., 21.]),\n",
       " array([0.00195714, 0.01193578, 0.02191441, 0.03189304, 0.04187168,\n",
       "        0.05185031, 0.06182894, 0.07180758, 0.08178621, 0.09176485,\n",
       "        0.10174348, 0.11172211, 0.12170075, 0.13167938, 0.14165801,\n",
       "        0.15163665, 0.16161528, 0.17159392, 0.18157255, 0.19155118,\n",
       "        0.20152982, 0.21150845, 0.22148708, 0.23146572, 0.24144435,\n",
       "        0.25142299, 0.26140162, 0.27138025, 0.28135889, 0.29133752,\n",
       "        0.30131615, 0.31129479, 0.32127342, 0.33125206, 0.34123069,\n",
       "        0.35120932, 0.36118796, 0.37116659, 0.38114522, 0.39112386,\n",
       "        0.40110249, 0.41108113, 0.42105976, 0.43103839, 0.44101703,\n",
       "        0.45099566, 0.46097429, 0.47095293, 0.48093156, 0.4909102 ,\n",
       "        0.50088883, 0.51086746, 0.5208461 , 0.53082473, 0.54080336,\n",
       "        0.550782  , 0.56076063, 0.57073927, 0.5807179 , 0.59069653,\n",
       "        0.60067517, 0.6106538 , 0.62063243, 0.63061107, 0.6405897 ,\n",
       "        0.65056834, 0.66054697, 0.6705256 , 0.68050424, 0.69048287,\n",
       "        0.7004615 , 0.71044014, 0.72041877, 0.73039741, 0.74037604,\n",
       "        0.75035467, 0.76033331, 0.77031194, 0.78029057, 0.79026921,\n",
       "        0.80024784, 0.81022648, 0.82020511, 0.83018374, 0.84016238,\n",
       "        0.85014101, 0.86011964, 0.87009828, 0.88007691, 0.89005555,\n",
       "        0.90003418, 0.91001281, 0.91999145, 0.92997008, 0.93994871,\n",
       "        0.94992735, 0.95990598, 0.96988462, 0.97986325, 0.98984188,\n",
       "        0.99982052]),\n",
       " <BarContainer object of 100 artists>)"
      ]
     },
     "execution_count": 58,
     "metadata": {},
     "output_type": "execute_result"
    },
    {
     "data": {
      "image/png": "[encoded data removed]",
      "text/plain": [
       "<Figure size 432x288 with 1 Axes>"
      ]
     },
     "metadata": {
      "needs_background": "light"
     },
     "output_type": "display_data"
    }
   ],
   "source": [
    "plt.hist(v2, bins=100)"
   ]
  },
  {
   "cell_type": "code",
   "execution_count": 59,
   "metadata": {},
   "outputs": [],
   "source": [
    "bp = np.random.randint(20, 100, 50)"
   ]
  },
  {
   "cell_type": "code",
   "execution_count": 70,
   "metadata": {},
   "outputs": [
    {
     "data": {
      "text/plain": [
       "(array([ 7.,  5.,  3.,  2., 11.,  5.,  2.,  5.,  4.,  6.]),\n",
       " array([20. , 27.7, 35.4, 43.1, 50.8, 58.5, 66.2, 73.9, 81.6, 89.3, 97. ]),\n",
       " <BarContainer object of 10 artists>)"
      ]
     },
     "execution_count": 70,
     "metadata": {},
     "output_type": "execute_result"
    },
    {
     "data": {
      "image/png": "[encoded data removed]",
      "text/plain": [
       "<Figure size 432x288 with 1 Axes>"
      ]
     },
     "metadata": {
      "needs_background": "light"
     },
     "output_type": "display_data"
    }
   ],
   "source": [
    "plt.hist(bp)"
   ]
  },
  {
   "cell_type": "code",
   "execution_count": 73,
   "metadata": {},
   "outputs": [],
   "source": [
    "g = np.random.rand(2, 3)"
   ]
  },
  {
   "cell_type": "code",
   "execution_count": 74,
   "metadata": {},
   "outputs": [
    {
     "data": {
      "text/plain": [
       "array([[0.23182736, 0.35927019, 0.71720802],\n",
       "       [0.73059512, 0.49478304, 0.44202164]])"
      ]
     },
     "execution_count": 74,
     "metadata": {},
     "output_type": "execute_result"
    }
   ],
   "source": [
    "g"
   ]
  },
  {
   "cell_type": "code",
   "execution_count": 75,
   "metadata": {},
   "outputs": [
    {
     "data": {
      "text/plain": [
       "(array([[1., 0., 0., 0., 0., 0., 0., 0., 0., 1.],\n",
       "        [0., 0., 1., 0., 0., 1., 0., 0., 0., 0.],\n",
       "        [0., 0., 0., 0., 1., 0., 0., 0., 0., 1.]]),\n",
       " array([0.23182736, 0.28170413, 0.33158091, 0.38145768, 0.43133446,\n",
       "        0.48121124, 0.53108801, 0.58096479, 0.63084156, 0.68071834,\n",
       "        0.73059512]),\n",
       " <a list of 3 BarContainer objects>)"
      ]
     },
     "execution_count": 75,
     "metadata": {},
     "output_type": "execute_result"
    },
    {
     "data": {
      "image/png": "[encoded data removed]",
      "text/plain": [
       "<Figure size 432x288 with 1 Axes>"
      ]
     },
     "metadata": {
      "needs_background": "light"
     },
     "output_type": "display_data"
    }
   ],
   "source": [
    "plt.hist(g)"
   ]
  },
  {
   "cell_type": "code",
   "execution_count": 76,
   "metadata": {},
   "outputs": [
    {
     "data": {
      "text/plain": [
       "2"
      ]
     },
     "execution_count": 76,
     "metadata": {},
     "output_type": "execute_result"
    }
   ],
   "source": [
    "g.ndim"
   ]
  },
  {
   "cell_type": "code",
   "execution_count": 82,
   "metadata": {},
   "outputs": [],
   "source": [
    "h = np.random.rand(2,3,2,2)"
   ]
  },
  {
   "cell_type": "code",
   "execution_count": 83,
   "metadata": {},
   "outputs": [
    {
     "data": {
      "text/plain": [
       "4"
      ]
     },
     "execution_count": 83,
     "metadata": {},
     "output_type": "execute_result"
    }
   ],
   "source": [
    "h.ndim"
   ]
  },
  {
   "cell_type": "code",
   "execution_count": 84,
   "metadata": {},
   "outputs": [
    {
     "data": {
      "text/plain": [
       "array([[[[0.44213788, 0.20025855],\n",
       "         [0.53888687, 0.21522458]],\n",
       "\n",
       "        [[0.76552634, 0.57116515],\n",
       "         [0.1639133 , 0.38103587]],\n",
       "\n",
       "        [[0.1935035 , 0.65980409],\n",
       "         [0.4850621 , 0.17705927]]],\n",
       "\n",
       "\n",
       "       [[[0.86126888, 0.70052127],\n",
       "         [0.34402498, 0.29905532]],\n",
       "\n",
       "        [[0.28779455, 0.78670661],\n",
       "         [0.17022649, 0.78958067]],\n",
       "\n",
       "        [[0.8604499 , 0.34071342],\n",
       "         [0.91113166, 0.19248802]]]])"
      ]
     },
     "execution_count": 84,
     "metadata": {},
     "output_type": "execute_result"
    }
   ],
   "source": [
    "h"
   ]
  },
  {
   "cell_type": "code",
   "execution_count": 86,
   "metadata": {},
   "outputs": [],
   "source": [
    "d = np.arange(100).reshape(4, 25)"
   ]
  },
  {
   "cell_type": "code",
   "execution_count": 87,
   "metadata": {},
   "outputs": [
    {
     "data": {
      "text/plain": [
       "array([[ 0,  1,  2,  3,  4,  5,  6,  7,  8,  9, 10, 11, 12, 13, 14, 15,\n",
       "        16, 17, 18, 19, 20, 21, 22, 23, 24],\n",
       "       [25, 26, 27, 28, 29, 30, 31, 32, 33, 34, 35, 36, 37, 38, 39, 40,\n",
       "        41, 42, 43, 44, 45, 46, 47, 48, 49],\n",
       "       [50, 51, 52, 53, 54, 55, 56, 57, 58, 59, 60, 61, 62, 63, 64, 65,\n",
       "        66, 67, 68, 69, 70, 71, 72, 73, 74],\n",
       "       [75, 76, 77, 78, 79, 80, 81, 82, 83, 84, 85, 86, 87, 88, 89, 90,\n",
       "        91, 92, 93, 94, 95, 96, 97, 98, 99]])"
      ]
     },
     "execution_count": 87,
     "metadata": {},
     "output_type": "execute_result"
    }
   ],
   "source": [
    "d"
   ]
  },
  {
   "cell_type": "code",
   "execution_count": 88,
   "metadata": {},
   "outputs": [
    {
     "data": {
      "text/plain": [
       "(array([[1., 0., 1., 0., 0., 1., 0., 1., 0., 0.],\n",
       "        [1., 0., 1., 0., 0., 1., 0., 1., 0., 0.],\n",
       "        [1., 0., 1., 0., 0., 1., 0., 1., 0., 0.],\n",
       "        [1., 0., 1., 0., 0., 1., 0., 1., 0., 0.],\n",
       "        [1., 0., 1., 0., 0., 1., 0., 1., 0., 0.],\n",
       "        [1., 0., 0., 1., 0., 1., 0., 0., 1., 0.],\n",
       "        [1., 0., 0., 1., 0., 1., 0., 0., 1., 0.],\n",
       "        [1., 0., 0., 1., 0., 1., 0., 0., 1., 0.],\n",
       "        [1., 0., 0., 1., 0., 1., 0., 0., 1., 0.],\n",
       "        [1., 0., 0., 1., 0., 1., 0., 0., 1., 0.],\n",
       "        [0., 1., 0., 1., 0., 0., 1., 0., 1., 0.],\n",
       "        [0., 1., 0., 1., 0., 0., 1., 0., 1., 0.],\n",
       "        [0., 1., 0., 1., 0., 0., 1., 0., 1., 0.],\n",
       "        [0., 1., 0., 1., 0., 0., 1., 0., 1., 0.],\n",
       "        [0., 1., 0., 1., 0., 0., 1., 0., 1., 0.],\n",
       "        [0., 1., 0., 0., 1., 0., 1., 0., 0., 1.],\n",
       "        [0., 1., 0., 0., 1., 0., 1., 0., 0., 1.],\n",
       "        [0., 1., 0., 0., 1., 0., 1., 0., 0., 1.],\n",
       "        [0., 1., 0., 0., 1., 0., 1., 0., 0., 1.],\n",
       "        [0., 1., 0., 0., 1., 0., 1., 0., 0., 1.],\n",
       "        [0., 0., 1., 0., 1., 0., 0., 1., 0., 1.],\n",
       "        [0., 0., 1., 0., 1., 0., 0., 1., 0., 1.],\n",
       "        [0., 0., 1., 0., 1., 0., 0., 1., 0., 1.],\n",
       "        [0., 0., 1., 0., 1., 0., 0., 1., 0., 1.],\n",
       "        [0., 0., 1., 0., 1., 0., 0., 1., 0., 1.]]),\n",
       " array([ 0. ,  9.9, 19.8, 29.7, 39.6, 49.5, 59.4, 69.3, 79.2, 89.1, 99. ]),\n",
       " <a list of 25 BarContainer objects>)"
      ]
     },
     "execution_count": 88,
     "metadata": {},
     "output_type": "execute_result"
    },
    {
     "data": {
      "image/png": "[encoded data removed]",
      "text/plain": [
       "<Figure size 432x288 with 1 Axes>"
      ]
     },
     "metadata": {
      "needs_background": "light"
     },
     "output_type": "display_data"
    }
   ],
   "source": [
    "plt.hist(d)"
   ]
  },
  {
   "cell_type": "code",
   "execution_count": 89,
   "metadata": {},
   "outputs": [
    {
     "data": {
      "text/plain": [
       "2"
      ]
     },
     "execution_count": 89,
     "metadata": {},
     "output_type": "execute_result"
    }
   ],
   "source": [
    "d.ndim"
   ]
  },
  {
   "cell_type": "code",
   "execution_count": null,
   "metadata": {},
   "outputs": [],
   "source": []
  }
 ],
 "metadata": {
  "kernelspec": {
   "display_name": "Python 3",
   "language": "python",
   "name": "python3"
  },
  "language_info": {
   "codemirror_mode": {
    "name": "ipython",
    "version": 3
   },
   "file_extension": ".py",
   "mimetype": "text/x-python",
   "name": "python",
   "nbconvert_exporter": "python",
   "pygments_lexer": "ipython3",
   "version": "3.8.5"
  }
 },
 "nbformat": 4,
 "nbformat_minor": 4
}
