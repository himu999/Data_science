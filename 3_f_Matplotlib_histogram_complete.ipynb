{
 "cells": [
  {
   "cell_type": "markdown",
   "metadata": {},
   "source": [
    "# Import library"
   ]
  },
  {
   "cell_type": "code",
   "execution_count": 3,
   "metadata": {},
   "outputs": [],
   "source": [
    "import matplotlib.pyplot  as plt\n",
    "import pandas as pd\n",
    "import numpy as np"
   ]
  },
  {
   "cell_type": "code",
   "execution_count": 4,
   "metadata": {},
   "outputs": [
    {
     "data": {
      "text/html": [
       "<div>\n",
       "<style scoped>\n",
       "    .dataframe tbody tr th:only-of-type {\n",
       "        vertical-align: middle;\n",
       "    }\n",
       "\n",
       "    .dataframe tbody tr th {\n",
       "        vertical-align: top;\n",
       "    }\n",
       "\n",
       "    .dataframe thead th {\n",
       "        text-align: right;\n",
       "    }\n",
       "</style>\n",
       "<table border=\"1\" class=\"dataframe\">\n",
       "  <thead>\n",
       "    <tr style=\"text-align: right;\">\n",
       "      <th></th>\n",
       "      <th>Unnamed: 0</th>\n",
       "      <th>ID</th>\n",
       "      <th>Name</th>\n",
       "      <th>Age</th>\n",
       "      <th>Photo</th>\n",
       "      <th>Nationality</th>\n",
       "      <th>Flag</th>\n",
       "      <th>Overall</th>\n",
       "      <th>Potential</th>\n",
       "      <th>Club</th>\n",
       "      <th>...</th>\n",
       "      <th>Composure</th>\n",
       "      <th>Marking</th>\n",
       "      <th>StandingTackle</th>\n",
       "      <th>SlidingTackle</th>\n",
       "      <th>GKDiving</th>\n",
       "      <th>GKHandling</th>\n",
       "      <th>GKKicking</th>\n",
       "      <th>GKPositioning</th>\n",
       "      <th>GKReflexes</th>\n",
       "      <th>Release Clause</th>\n",
       "    </tr>\n",
       "  </thead>\n",
       "  <tbody>\n",
       "    <tr>\n",
       "      <th>0</th>\n",
       "      <td>0</td>\n",
       "      <td>158023</td>\n",
       "      <td>L. Messi</td>\n",
       "      <td>31</td>\n",
       "      <td>https://cdn.sofifa.org/players/4/19/158023.png</td>\n",
       "      <td>Argentina</td>\n",
       "      <td>https://cdn.sofifa.org/flags/52.png</td>\n",
       "      <td>94</td>\n",
       "      <td>94</td>\n",
       "      <td>FC Barcelona</td>\n",
       "      <td>...</td>\n",
       "      <td>96.0</td>\n",
       "      <td>33.0</td>\n",
       "      <td>28.0</td>\n",
       "      <td>26.0</td>\n",
       "      <td>6.0</td>\n",
       "      <td>11.0</td>\n",
       "      <td>15.0</td>\n",
       "      <td>14.0</td>\n",
       "      <td>8.0</td>\n",
       "      <td>€226.5M</td>\n",
       "    </tr>\n",
       "  </tbody>\n",
       "</table>\n",
       "<p>1 rows × 89 columns</p>\n",
       "</div>"
      ],
      "text/plain": [
       "   Unnamed: 0      ID      Name  Age  \\\n",
       "0           0  158023  L. Messi   31   \n",
       "\n",
       "                                            Photo Nationality  \\\n",
       "0  https://cdn.sofifa.org/players/4/19/158023.png   Argentina   \n",
       "\n",
       "                                  Flag  Overall  Potential          Club  ...  \\\n",
       "0  https://cdn.sofifa.org/flags/52.png       94         94  FC Barcelona  ...   \n",
       "\n",
       "  Composure Marking StandingTackle  SlidingTackle GKDiving  GKHandling  \\\n",
       "0      96.0    33.0           28.0           26.0      6.0        11.0   \n",
       "\n",
       "   GKKicking  GKPositioning GKReflexes Release Clause  \n",
       "0       15.0           14.0        8.0        €226.5M  \n",
       "\n",
       "[1 rows x 89 columns]"
      ]
     },
     "execution_count": 4,
     "metadata": {},
     "output_type": "execute_result"
    }
   ],
   "source": [
    "df = pd.read_csv('E:/Data_science/fifa_data.csv')\n",
    "df.head(1)"
   ]
  },
  {
   "cell_type": "markdown",
   "metadata": {},
   "source": [
    "### Histograms"
   ]
  },
  {
   "cell_type": "code",
   "execution_count": 5,
   "metadata": {},
   "outputs": [
    {
     "data": {
      "image/png": "[encoded data removed]",
      "text/plain": [
       "<Figure size 432x288 with 1 Axes>"
      ]
     },
     "metadata": {
      "needs_background": "light"
     },
     "output_type": "display_data"
    }
   ],
   "source": [
    "bins = [ 40, 50, 60, 70, 80, 90, 100]\n",
    "plt.title('Distribution of player skills in FIFA 2018')\n",
    "\n",
    "plt.hist(df.Overall, bins=bins, color='C1')\n",
    "\n",
    "\n",
    "plt.xticks(bins)\n",
    "plt.xlabel('Skill Level')\n",
    "plt.ylabel('Number of Players')\n",
    "plt.show()"
   ]
  },
  {
   "cell_type": "code",
   "execution_count": 6,
   "metadata": {},
   "outputs": [
    {
     "data": {
      "image/png": "[encoded data removed]",
      "text/plain": [
       "<Figure size 432x288 with 1 Axes>"
      ]
     },
     "metadata": {
      "needs_background": "light"
     },
     "output_type": "display_data"
    }
   ],
   "source": [
    "x = [1, 12, 22, 21, 20, 21, 31, 2, 32, 40, 14,\n",
    "     33, 50, 44, 45, 46, 45, 44, 46, 47, 43,\n",
    "     42, 41, 40, 43, 45, 43, 44, 61, 13, 58,\n",
    "     70, 12, 60, 10, 71, 11, 72, 18, 85, 90,\n",
    "     96, 99, 25, 25, 23, 34, 13, 28, 25, 30,\n",
    "     34, 45, 55, 56, 64, 73, 80, 1, 100]\n",
    "\n",
    "y = [1, 6, 11,16, 21, 26, 31, 36, 41, 46, 51, 56, 61, 66, 71, 76, 81, 86, 91, 96, 101]\n",
    "\n",
    "plt.hist(x, 20,ec=\"red\", color=\"crimson\")\n",
    "plt.xlabel(\"Age\")\n",
    "plt.ylabel(\"Count\")\n",
    "plt.xticks(y)\n",
    "plt.title(\"Population Age Count\")\n",
    "\n",
    "plt.show()"
   ]
  },
  {
   "cell_type": "code",
   "execution_count": 7,
   "metadata": {},
   "outputs": [
    {
     "data": {
      "image/png": "[encoded data removed]",
      "text/plain": [
       "<Figure size 432x288 with 1 Axes>"
      ]
     },
     "metadata": {
      "needs_background": "light"
     },
     "output_type": "display_data"
    }
   ],
   "source": [
    "x = [1, 12, 22, 21, 20, 21, 25, 27, 29, 40]\n",
    "y = [1, 6, 11,16, 21,26, 31, 36, 41]\n",
    "\n",
    "plt.hist(x, bins = 8, color=\"yellow\")\n",
    "\n",
    "plt.xlabel('Age')\n",
    "plt.ylabel('count')\n",
    "plt.xticks(y, color=\"r\")\n",
    "\n",
    "plt.title('Population Age Count')\n",
    "\n",
    "\n",
    "\n",
    "\n",
    "\n",
    "plt.show()"
   ]
  },
  {
   "cell_type": "code",
   "execution_count": 8,
   "metadata": {},
   "outputs": [
    {
     "data": {
      "image/png": "[encoded data removed]",
      "text/plain": [
       "<Figure size 432x288 with 1 Axes>"
      ]
     },
     "metadata": {
      "needs_background": "light"
     },
     "output_type": "display_data"
    }
   ],
   "source": [
    "import matplotlib.pyplot as plt\n",
    "from matplotlib.ticker import MaxNLocator\n",
    "\n",
    "#for force to convert yticks into integer\n",
    "\n",
    "ax = plt.figure().gca()\n",
    "ax.yaxis.set_major_locator(MaxNLocator(integer=True))\n",
    "\n",
    "\n",
    "k = [1, 12, 22, 21, 20, 21, 25, 27, 29, 33,36,  40]\n",
    "l = [1, 6, 11, 16, 21, 26, 31, 36, 41]\n",
    "\n",
    "plt.hist(k,ec='r')\n",
    "\n",
    "\n",
    "plt.xlabel('Age')\n",
    "plt.ylabel('Count')\n",
    "plt.title('Population Age Count')\n",
    "\n",
    "plt.xticks(l)\n",
    "plt.yticks(color=\"r\")\n",
    "\n",
    "\n",
    "plt.show()"
   ]
  },
  {
   "cell_type": "code",
   "execution_count": 9,
   "metadata": {},
   "outputs": [
    {
     "data": {
      "image/png": "[encoded data removed]",
      "text/plain": [
       "<Figure size 432x288 with 1 Axes>"
      ]
     },
     "metadata": {
      "needs_background": "light"
     },
     "output_type": "display_data"
    }
   ],
   "source": [
    "\n",
    "\n",
    "ax = plt.figure().gca()\n",
    "ax.yaxis.set_major_locator(MaxNLocator(integer=True))\n",
    "\n",
    "x = [1, 12, 22, 21, 20, 21]\n",
    "y = [1,6, 11,16, 21,26,  31]\n",
    "\n",
    "\n",
    "plt.hist(x, y, ec=\"red\", color=\"orange\", bottom= 10)\n",
    "\n",
    "# plt.hist(x, y, ec=\"red\", color=\"orange\", bottom= [1,3, 5, 7, 9, 11 ])\n",
    "plt.xlabel(\"Age\")\n",
    "plt.ylabel(\"Count\")\n",
    "plt.title(\"Population Age Count\")\n",
    "\n",
    "plt.xticks(y)\n",
    "\n",
    "plt.show()"
   ]
  },
  {
   "cell_type": "code",
   "execution_count": 10,
   "metadata": {},
   "outputs": [
    {
     "data": {
      "image/png": "[encoded data removed]",
      "text/plain": [
       "<Figure size 432x288 with 1 Axes>"
      ]
     },
     "metadata": {
      "needs_background": "light"
     },
     "output_type": "display_data"
    }
   ],
   "source": [
    "\n",
    "ax = plt.figure().gca()\n",
    "ax.yaxis.set_major_locator(MaxNLocator(integer= True))\n",
    "\n",
    "x = [1, 12, 22, 21, 20, 21]\n",
    "y = [1, 11, 21, 31]\n",
    "plt.hist(x, y, ec=\"red\")\n",
    "\n",
    "plt.xlabel(\"Age\")\n",
    "plt.ylabel(\"Count\")\n",
    "plt.title(\"Population Age Count\")\n",
    "plt.xticks(y)\n",
    "\n",
    "plt.show()"
   ]
  },
  {
   "cell_type": "code",
   "execution_count": 11,
   "metadata": {},
   "outputs": [
    {
     "data": {
      "image/png": "[encoded data removed]",
      "text/plain": [
       "<Figure size 432x288 with 1 Axes>"
      ]
     },
     "metadata": {
      "needs_background": "light"
     },
     "output_type": "display_data"
    }
   ],
   "source": [
    "x = [1, 12, 22, 21, 20, 21]\n",
    "y = [1, 11, 21, 31]\n",
    "\n",
    "\n",
    "\n",
    "# plt.hist(x, ec=\"r\", color=\"r\", bottom=7)\n",
    "# plt.hist(x,y, ec=\"r\", color=\"y\", bottom=[1, 3, 5])\n",
    "plt.hist(x, y, ec=\"r\", color='b', bottom=[1, 10, 50])\n",
    "# length of the bottom should be the equal to the number of bin\n",
    "plt.xlabel(\"Age\")\n",
    "plt.ylabel(\"Count\")\n",
    "plt.title(\"Population Age Count\")\n",
    "\n",
    "\n",
    "plt.xticks(y)\n",
    "\n",
    "plt.show()\n"
   ]
  },
  {
   "cell_type": "markdown",
   "metadata": {},
   "source": [
    "### hist type [default bar], othres are barstacked, step, stepfilled "
   ]
  },
  {
   "cell_type": "code",
   "execution_count": 12,
   "metadata": {},
   "outputs": [
    {
     "data": {
      "image/png": "[encoded data removed]",
      "text/plain": [
       "<Figure size 432x288 with 1 Axes>"
      ]
     },
     "metadata": {
      "needs_background": "light"
     },
     "output_type": "display_data"
    }
   ],
   "source": [
    "x = [1, 12, 22, 21, 20, 21]\n",
    "y = [1,6, 11,16, 21,26, 31, 36]\n",
    "\n",
    "# plt.hist(x,  y, ec='red', histtype=\"step\")\n",
    "# plt.hist(x, y, ec=\"red\", histtype=\"stepfilled\")\n",
    "\n",
    "plt.hist(x, y, ec='r', color='c', histtype='barstacked')\n",
    "\n",
    "plt.xlabel('Age')\n",
    "plt.ylabel('Count')\n",
    "plt.title('Population Age Count')\n",
    "plt.xticks(y)\n",
    "\n",
    "plt.show()"
   ]
  },
  {
   "cell_type": "markdown",
   "metadata": {},
   "source": [
    "### Align left, right, mid=default"
   ]
  },
  {
   "cell_type": "code",
   "execution_count": 13,
   "metadata": {},
   "outputs": [
    {
     "data": {
      "image/png": "[encoded data removed]",
      "text/plain": [
       "<Figure size 432x288 with 1 Axes>"
      ]
     },
     "metadata": {
      "needs_background": "light"
     },
     "output_type": "display_data"
    }
   ],
   "source": [
    "x = [1, 12, 22, 21, 20, 21]\n",
    "y = [1, 11, 21, 31]\n",
    "\n",
    "# plt.hist(x, y, ec=\"b\", color=\"brown\", align=\"left\")\n",
    "# plt.hist(x, y, align='right')\n",
    "plt.hist(x, y, align=\"mid\")\n",
    "plt.xlabel('Age')\n",
    "plt.ylabel('Count')\n",
    "plt.title('Population Age Count')\n",
    "plt.xticks(y)\n",
    "\n",
    "plt.show()"
   ]
  },
  {
   "cell_type": "markdown",
   "metadata": {},
   "source": [
    "### orientation vertical=default, horizontal"
   ]
  },
  {
   "cell_type": "code",
   "execution_count": 14,
   "metadata": {},
   "outputs": [
    {
     "data": {
      "image/png": "[encoded data removed]",
      "text/plain": [
       "<Figure size 432x288 with 1 Axes>"
      ]
     },
     "metadata": {
      "needs_background": "light"
     },
     "output_type": "display_data"
    }
   ],
   "source": [
    "x = [1, 12, 22, 21, 20, 21]\n",
    "y = [1, 11, 21, 31]\n",
    "\n",
    "plt.hist(x, y, ec=\"r\", orientation=\"horizontal\")\n",
    "\n",
    "plt.xlabel(\"Age\")\n",
    "plt.ylabel(\"Count\")\n",
    "plt.title('Population Age Count')\n",
    "plt.xticks(y)\n",
    "\n",
    "plt.show()"
   ]
  },
  {
   "cell_type": "markdown",
   "metadata": {},
   "source": [
    "### rwidth None=default, Float relative width bars. if bin width = 1, rwidth = 0.5 then bar width will be 0.5, both the side of the bar will have 0.25 space"
   ]
  },
  {
   "cell_type": "code",
   "execution_count": 15,
   "metadata": {},
   "outputs": [
    {
     "data": {
      "image/png": "[encoded data removed]",
      "text/plain": [
       "<Figure size 432x288 with 1 Axes>"
      ]
     },
     "metadata": {
      "needs_background": "light"
     },
     "output_type": "display_data"
    }
   ],
   "source": [
    "x = [1, 12, 22, 21, 20, 21]\n",
    "y = [1, 11, 21, 31]\n",
    "\n",
    "plt.hist(x, y, ec=\"r\", rwidth=0.3)\n",
    "\n",
    "plt.xlabel('Age')\n",
    "plt.ylabel('Count')\n",
    "plt.title(\"Population Age Count\")\n",
    "\n",
    "# plt.xticks(y)\n",
    "\n",
    "plt.show()"
   ]
  },
  {
   "cell_type": "markdown",
   "metadata": {},
   "source": [
    "### log boolean value, False = Default"
   ]
  },
  {
   "cell_type": "code",
   "execution_count": 16,
   "metadata": {},
   "outputs": [
    {
     "data": {
      "image/png": "[encoded data removed]",
      "text/plain": [
       "<Figure size 432x288 with 1 Axes>"
      ]
     },
     "metadata": {
      "needs_background": "light"
     },
     "output_type": "display_data"
    }
   ],
   "source": [
    "x = [1, 12, 22, 21, 20, 21]\n",
    "y = [1, 11, 21, 31]\n",
    "\n",
    "plt.hist(x, y, ec=\"r\", color=\"y\",log=True )\n",
    "\n",
    "plt.xlabel('Age')\n",
    "plt.ylabel('Count')\n",
    "plt.title('Population Age Count')\n",
    "\n",
    "plt.xticks(y)\n",
    "\n",
    "plt.show()"
   ]
  },
  {
   "cell_type": "markdown",
   "metadata": {},
   "source": [
    "### The Color Of Individual Bars In Histogram"
   ]
  },
  {
   "cell_type": "code",
   "execution_count": 17,
   "metadata": {},
   "outputs": [
    {
     "data": {
      "image/png": "[encoded data removed]",
      "text/plain": [
       "<Figure size 432x288 with 1 Axes>"
      ]
     },
     "metadata": {
      "needs_background": "light"
     },
     "output_type": "display_data"
    }
   ],
   "source": [
    "ax = plt.figure().gca()\n",
    "ax.yaxis.set_major_locator(MaxNLocator(integer= True))\n",
    "\n",
    "x = [1, 12, 22, 21, 20, 21]\n",
    "y = [1, 6, 11, 16, 21, 26, 31]\n",
    "\n",
    "n, bins, patches = plt.hist(x, y, ec='red', color='g')\n",
    "\n",
    "patches[0].set_fc('r')\n",
    "patches[1].set_fc('y')\n",
    "patches[2].set_fc('orange')\n",
    "\n",
    "\n",
    "plt.xlabel('Age')\n",
    "plt.ylabel('Count')\n",
    "plt.title('Population Age Count')\n",
    "\n",
    "plt.xticks(y)\n",
    "plt.show()"
   ]
  },
  {
   "cell_type": "markdown",
   "metadata": {},
   "source": [
    "### individual histogram bar color using loop"
   ]
  },
  {
   "cell_type": "code",
   "execution_count": 18,
   "metadata": {},
   "outputs": [
    {
     "data": {
      "image/png": "[encoded data removed]",
      "text/plain": [
       "<Figure size 432x288 with 1 Axes>"
      ]
     },
     "metadata": {
      "needs_background": "light"
     },
     "output_type": "display_data"
    }
   ],
   "source": [
    "x = np.random.randn(1000)\n",
    "\n",
    "n, m, patches = plt.hist(x, bins = 10)\n",
    "color= ['r', 'orange', 'g', 'y', 'b','r', 'orange', 'g', 'y', 'b']\n",
    "\n",
    "for i in range(len(n)):\n",
    "    patches[i].set_fc(color[i])\n",
    "\n",
    "plt.xlabel('Age')\n",
    "plt.ylabel('Count')\n",
    "plt.show()\n"
   ]
  },
  {
   "cell_type": "code",
   "execution_count": 40,
   "metadata": {},
   "outputs": [
    {
     "data": {
      "image/png": "[encoded data removed]",
      "text/plain": [
       "<Figure size 432x288 with 1 Axes>"
      ]
     },
     "metadata": {
      "needs_background": "light"
     },
     "output_type": "display_data"
    }
   ],
   "source": [
    "x = np.random.randn(1000)\n",
    "\n",
    "n, m, patches = plt.hist(x, bins = 51)\n",
    "color= ['r', 'orange', 'g', 'y', 'b','r', 'orange', 'g', 'y', 'b','r', 'orange', 'g', 'y', 'b','r', 'orange','r', 'orange', 'g', 'y', 'b','r', 'orange', 'g', 'y', 'b','r', 'orange', 'g', 'y', 'b','r', 'orange','r', 'orange', 'g', 'y', 'b','r', 'orange', 'g', 'y', 'b','r', 'orange', 'g', 'y', 'b','r', 'orange']\n",
    "\n",
    "for i in range(len(n)):\n",
    "    patches[i].set_fc(color[i])\n",
    "\n",
    "plt.xlabel('')\n",
    "plt.ylabel('')\n",
    "\n",
    "plt.savefig('save')\n",
    "plt.show()\n"
   ]
  },
  {
   "cell_type": "markdown",
   "metadata": {},
   "source": [
    "### Stacked Histogram "
   ]
  },
  {
   "cell_type": "code",
   "execution_count": 47,
   "metadata": {},
   "outputs": [
    {
     "data": {
      "image/png": "[encoded data removed]",
      "text/plain": [
       "<Figure size 432x288 with 1 Axes>"
      ]
     },
     "metadata": {
      "needs_background": "light"
     },
     "output_type": "display_data"
    }
   ],
   "source": [
    "x = np.random.randn(1000,3)\n",
    "# plt.hist(x, 30, histtype=\"barstacked\")\n",
    "plt.hist(x, 30, stacked=True)\n",
    "\n",
    "\n",
    "plt.xlabel('Age')\n",
    "plt.ylabel('Count of the people')\n",
    "plt.title('Population Count')\n",
    "plt.show()"
   ]
  },
  {
   "cell_type": "code",
   "execution_count": 52,
   "metadata": {},
   "outputs": [
    {
     "data": {
      "image/png": "[encoded data removed]",
      "text/plain": [
       "<Figure size 432x288 with 1 Axes>"
      ]
     },
     "metadata": {
      "needs_background": "light"
     },
     "output_type": "display_data"
    }
   ],
   "source": [
    "x = np.random.randn(1000)\n",
    "y = np.sin(x)\n",
    "z = np.cos(x)\n",
    "\n",
    "# plt.hist(x, bins='auto', ec='k', alpha=0.5)\n",
    "# plt.hist(y, bins='auto', ec=\"k\", alpha=0.5)\n",
    "# plt.hist(z, bins=\"auto\", ec=\"k\", alpha=0.5)\n",
    "\n",
    "# plt.hist([x, y, z], bins=\"auto\", ec=\"k\", alpha=0.5)\n",
    "\n",
    "plt.hist([x,y,z], bins='auto', ec=\"k\", stacked=True)\n",
    "\n",
    "\n",
    "plt.xlabel(\"Age\")\n",
    "plt.ylabel(\"Count of people\")\n",
    "plt.title('Population Count')\n",
    "\n",
    "plt.show()"
   ]
  },
  {
   "cell_type": "code",
   "execution_count": null,
   "metadata": {},
   "outputs": [],
   "source": []
  },
  {
   "cell_type": "code",
   "execution_count": null,
   "metadata": {},
   "outputs": [],
   "source": []
  },
  {
   "cell_type": "code",
   "execution_count": null,
   "metadata": {},
   "outputs": [],
   "source": []
  }
 ],
 "metadata": {
  "kernelspec": {
   "display_name": "Python 3",
   "language": "python",
   "name": "python3"
  },
  "language_info": {
   "codemirror_mode": {
    "name": "ipython",
    "version": 3
   },
   "file_extension": ".py",
   "mimetype": "text/x-python",
   "name": "python",
   "nbconvert_exporter": "python",
   "pygments_lexer": "ipython3",
   "version": "3.8.5"
  }
 },
 "nbformat": 4,
 "nbformat_minor": 4
}
